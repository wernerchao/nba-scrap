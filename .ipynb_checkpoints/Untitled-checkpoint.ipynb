{
 "cells": [
  {
   "cell_type": "code",
   "execution_count": 4,
   "metadata": {
    "collapsed": false
   },
   "outputs": [
    {
     "data": {
      "text/plain": [
       "['https://www.teamrankings.com/nba/stat/offensive-efficiency?date=2005-06-20',\n",
       " 'https://www.teamrankings.com/nba/stat/offensive-efficiency?date=2006-06-20',\n",
       " 'https://www.teamrankings.com/nba/stat/offensive-efficiency?date=2007-06-20',\n",
       " 'https://www.teamrankings.com/nba/stat/offensive-efficiency?date=2008-06-20',\n",
       " 'https://www.teamrankings.com/nba/stat/offensive-efficiency?date=2009-06-20',\n",
       " 'https://www.teamrankings.com/nba/stat/offensive-efficiency?date=2010-06-20',\n",
       " 'https://www.teamrankings.com/nba/stat/offensive-efficiency?date=2011-06-20',\n",
       " 'https://www.teamrankings.com/nba/stat/offensive-efficiency?date=2012-06-20',\n",
       " 'https://www.teamrankings.com/nba/stat/offensive-efficiency?date=2013-06-20',\n",
       " 'https://www.teamrankings.com/nba/stat/offensive-efficiency?date=2014-06-20',\n",
       " 'https://www.teamrankings.com/nba/stat/offensive-efficiency?date=2015-06-20']"
      ]
     },
     "execution_count": 4,
     "metadata": {},
     "output_type": "execute_result"
    }
   ],
   "source": [
    "['https://www.teamrankings.com/nba/stat/offensive-efficiency?date=%d-06-20' % i for i in range(2005, 2016)]"
   ]
  },
  {
   "cell_type": "code",
   "execution_count": null,
   "metadata": {
    "collapsed": true
   },
   "outputs": [],
   "source": []
  }
 ],
 "metadata": {
  "kernelspec": {
   "display_name": "Python 2",
   "language": "python",
   "name": "python2"
  },
  "language_info": {
   "codemirror_mode": {
    "name": "ipython",
    "version": 2
   },
   "file_extension": ".py",
   "mimetype": "text/x-python",
   "name": "python",
   "nbconvert_exporter": "python",
   "pygments_lexer": "ipython2",
   "version": "2.7.10"
  }
 },
 "nbformat": 4,
 "nbformat_minor": 2
}
